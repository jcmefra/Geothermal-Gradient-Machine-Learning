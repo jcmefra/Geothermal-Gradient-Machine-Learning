{
 "cells": [
  {
   "cell_type": "code",
   "execution_count": 20,
   "metadata": {},
   "outputs": [],
   "source": [
    "from pygmt.datasets import load_earth_vertical_gravity_gradient\n",
    "from pygmt.datasets import load_earth_magnetic_anomaly\n",
    "from pygmt.datasets import load_earth_free_air_anomaly\n",
    "import pygmt"
   ]
  },
  {
   "cell_type": "code",
   "execution_count": 15,
   "metadata": {},
   "outputs": [
    {
     "name": "stderr",
     "output_type": "stream",
     "text": [
      "grdblend [NOTICE]: Remote data courtesy of GMT data server oceania [http://oceania.generic-mapping-tools.org]\n",
      "grdblend [NOTICE]: IGPP Earth Vertical Gravity Gradient Anomalies v32 at 02x02 arc minutes reduced by Gaussian Cartesian filtering (3.8 km fullwidth) [Sandwell et al., 2019].\n",
      "grdblend [NOTICE]:   -> Download 60x60 degree grid tile (earth_vgg_02m_g): S30W120\n"
     ]
    }
   ],
   "source": [
    "grid = load_earth_vertical_gravity_gradient(\n",
    "    resolution=\"02m\",\n",
    "    region=[-79, -66, -5, 15],\n",
    "    registration=\"gridline\",\n",
    ")\n",
    "\n",
    "grid.to_netcdf(\"colombia_gravity_map.nc\")"
   ]
  },
  {
   "cell_type": "code",
   "execution_count": 19,
   "metadata": {},
   "outputs": [
    {
     "name": "stderr",
     "output_type": "stream",
     "text": [
      "grdblend [NOTICE]: Remote data courtesy of GMT data server oceania [http://oceania.generic-mapping-tools.org]\n",
      "grdblend [NOTICE]: WDMAM Earth Magnetic Anomalies v2.1 at 05x05 arc minutes reduced by Gaussian Cartesian filtering (9.3 km fullwidth) [Choi et al. 2023].\n",
      "grdblend [NOTICE]:   -> Download 180x180 degree grid tile (earth_wdmam_05m_g): S90W180\n"
     ]
    }
   ],
   "source": [
    "grid = load_earth_magnetic_anomaly(\n",
    "    resolution=\"05m\",\n",
    "    region=[-79, -66, -5, 15],\n",
    "    registration=\"gridline\",\n",
    "    data_source=\"wdmam\")\n",
    "\n",
    "grid.to_netcdf(\"colombia_magnetic.nc\")"
   ]
  },
  {
   "cell_type": "code",
   "execution_count": 22,
   "metadata": {},
   "outputs": [
    {
     "name": "stderr",
     "output_type": "stream",
     "text": [
      "grdblend [NOTICE]: Remote data courtesy of GMT data server oceania [http://oceania.generic-mapping-tools.org]\n",
      "grdblend [NOTICE]: IGPP Earth Free Air Gravity Anomalies v32 at 05x05 arc minutes reduced by Gaussian Cartesian filtering (9.3 km fullwidth) [Sandwell et al., 2019].\n",
      "grdblend [NOTICE]:   -> Download 180x180 degree grid tile (earth_faa_05m_g): S90W180\n"
     ]
    }
   ],
   "source": [
    "grid = load_earth_free_air_anomaly(\n",
    "    resolution=\"05m\",\n",
    "    region=[-79, -66, -5, 15],\n",
    "    registration=\"gridline\",\n",
    ")\n",
    "\n",
    "grid.to_netcdf(\"colombia_FAA.nc\")"
   ]
  }
 ],
 "metadata": {
  "kernelspec": {
   "display_name": "pygmt",
   "language": "python",
   "name": "python3"
  },
  "language_info": {
   "codemirror_mode": {
    "name": "ipython",
    "version": 3
   },
   "file_extension": ".py",
   "mimetype": "text/x-python",
   "name": "python",
   "nbconvert_exporter": "python",
   "pygments_lexer": "ipython3",
   "version": "3.11.5"
  }
 },
 "nbformat": 4,
 "nbformat_minor": 2
}
